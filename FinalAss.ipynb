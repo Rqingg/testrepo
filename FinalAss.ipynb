{
  "metadata": {
    "language_info": {
      "codemirror_mode": {
        "name": "python",
        "version": 3
      },
      "file_extension": ".py",
      "mimetype": "text/x-python",
      "name": "python",
      "nbconvert_exporter": "python",
      "pygments_lexer": "ipython3",
      "version": "3.8"
    },
    "kernelspec": {
      "name": "python",
      "display_name": "Pyolite",
      "language": "python"
    }
  },
  "nbformat_minor": 4,
  "nbformat": 4,
  "cells": [
    {
      "cell_type": "markdown",
      "source": "# My Jupyter Notebook on IBM Watson Studio",
      "metadata": {}
    },
    {
      "cell_type": "markdown",
      "source": "**Runqing Liu**   \nBusiness Analyst Intern, Business Analyst/Consultant",
      "metadata": {}
    },
    {
      "cell_type": "markdown",
      "source": "_I want to learn data science because data scientice is a trend for future and a must know how to everyone._",
      "metadata": {}
    },
    {
      "cell_type": "markdown",
      "source": "### My code is a final assignment for the Coursera Course IBM data science.",
      "metadata": {}
    },
    {
      "cell_type": "code",
      "source": "1+1",
      "metadata": {
        "trusted": true
      },
      "execution_count": 1,
      "outputs": [
        {
          "execution_count": 1,
          "output_type": "execute_result",
          "data": {
            "text/plain": "2"
          },
          "metadata": {}
        }
      ]
    },
    {
      "cell_type": "markdown",
      "source": "My favorite search engine is [Duck Duck Go](https://duckduckgo.com).\n\n| Syntax | Descript |\n| ----------- | ----------- |\n| Header | Title |\n| Paragraph | Text |\n\n* * *",
      "metadata": {}
    },
    {
      "cell_type": "code",
      "source": "",
      "metadata": {},
      "execution_count": null,
      "outputs": []
    }
  ]
}